{
 "cells": [
  {
   "cell_type": "code",
   "execution_count": 67,
   "metadata": {},
   "outputs": [],
   "source": [
    "import pandas as pd\n",
    "import numpy as np\n",
    "import matplotlib.pyplot as plt\n",
    "import seaborn as sns"
   ]
  },
  {
   "cell_type": "code",
   "execution_count": 68,
   "metadata": {},
   "outputs": [
    {
     "data": {
      "text/html": [
       "<div>\n",
       "<style scoped>\n",
       "    .dataframe tbody tr th:only-of-type {\n",
       "        vertical-align: middle;\n",
       "    }\n",
       "\n",
       "    .dataframe tbody tr th {\n",
       "        vertical-align: top;\n",
       "    }\n",
       "\n",
       "    .dataframe thead th {\n",
       "        text-align: right;\n",
       "    }\n",
       "</style>\n",
       "<table border=\"1\" class=\"dataframe\">\n",
       "  <thead>\n",
       "    <tr style=\"text-align: right;\">\n",
       "      <th></th>\n",
       "      <th>Type</th>\n",
       "      <th>Product</th>\n",
       "      <th>Started Date</th>\n",
       "      <th>Completed Date</th>\n",
       "      <th>Description</th>\n",
       "      <th>Amount</th>\n",
       "      <th>Fee</th>\n",
       "      <th>Currency</th>\n",
       "      <th>State</th>\n",
       "      <th>Balance</th>\n",
       "    </tr>\n",
       "  </thead>\n",
       "  <tbody>\n",
       "    <tr>\n",
       "      <th>0</th>\n",
       "      <td>TRANSFER</td>\n",
       "      <td>Current</td>\n",
       "      <td>2024-10-27 18:22:04</td>\n",
       "      <td>2024-10-27 18:22:04</td>\n",
       "      <td>From ZHEYUAN HE</td>\n",
       "      <td>200.00</td>\n",
       "      <td>0.0</td>\n",
       "      <td>SEK</td>\n",
       "      <td>COMPLETED</td>\n",
       "      <td>200.00</td>\n",
       "    </tr>\n",
       "    <tr>\n",
       "      <th>1</th>\n",
       "      <td>TRANSFER</td>\n",
       "      <td>Current</td>\n",
       "      <td>2024-10-27 18:23:41</td>\n",
       "      <td>2024-10-27 18:23:42</td>\n",
       "      <td>From ZHEYUAN HE</td>\n",
       "      <td>20.00</td>\n",
       "      <td>0.0</td>\n",
       "      <td>SEK</td>\n",
       "      <td>COMPLETED</td>\n",
       "      <td>220.00</td>\n",
       "    </tr>\n",
       "    <tr>\n",
       "      <th>2</th>\n",
       "      <td>TRANSFER</td>\n",
       "      <td>Current</td>\n",
       "      <td>2024-10-27 18:38:15</td>\n",
       "      <td>2024-10-27 18:38:16</td>\n",
       "      <td>To ZHEYUAN HE</td>\n",
       "      <td>-220.00</td>\n",
       "      <td>0.0</td>\n",
       "      <td>SEK</td>\n",
       "      <td>COMPLETED</td>\n",
       "      <td>0.00</td>\n",
       "    </tr>\n",
       "    <tr>\n",
       "      <th>3</th>\n",
       "      <td>TRANSFER</td>\n",
       "      <td>Current</td>\n",
       "      <td>2024-10-27 18:47:52</td>\n",
       "      <td>2024-10-27 18:47:52</td>\n",
       "      <td>From ZHEYUAN HE</td>\n",
       "      <td>100.00</td>\n",
       "      <td>0.0</td>\n",
       "      <td>SEK</td>\n",
       "      <td>COMPLETED</td>\n",
       "      <td>100.00</td>\n",
       "    </tr>\n",
       "    <tr>\n",
       "      <th>4</th>\n",
       "      <td>FEE</td>\n",
       "      <td>Current</td>\n",
       "      <td>2024-10-27 19:51:31</td>\n",
       "      <td>2024-10-27 19:51:31</td>\n",
       "      <td>Card Delivery Fee</td>\n",
       "      <td>-89.99</td>\n",
       "      <td>0.0</td>\n",
       "      <td>SEK</td>\n",
       "      <td>COMPLETED</td>\n",
       "      <td>10.01</td>\n",
       "    </tr>\n",
       "  </tbody>\n",
       "</table>\n",
       "</div>"
      ],
      "text/plain": [
       "       Type  Product         Started Date       Completed Date  \\\n",
       "0  TRANSFER  Current  2024-10-27 18:22:04  2024-10-27 18:22:04   \n",
       "1  TRANSFER  Current  2024-10-27 18:23:41  2024-10-27 18:23:42   \n",
       "2  TRANSFER  Current  2024-10-27 18:38:15  2024-10-27 18:38:16   \n",
       "3  TRANSFER  Current  2024-10-27 18:47:52  2024-10-27 18:47:52   \n",
       "4       FEE  Current  2024-10-27 19:51:31  2024-10-27 19:51:31   \n",
       "\n",
       "         Description  Amount  Fee Currency      State  Balance  \n",
       "0    From ZHEYUAN HE  200.00  0.0      SEK  COMPLETED   200.00  \n",
       "1    From ZHEYUAN HE   20.00  0.0      SEK  COMPLETED   220.00  \n",
       "2      To ZHEYUAN HE -220.00  0.0      SEK  COMPLETED     0.00  \n",
       "3    From ZHEYUAN HE  100.00  0.0      SEK  COMPLETED   100.00  \n",
       "4  Card Delivery Fee  -89.99  0.0      SEK  COMPLETED    10.01  "
      ]
     },
     "execution_count": 68,
     "metadata": {},
     "output_type": "execute_result"
    }
   ],
   "source": [
    "df = pd.read_csv('/Users/songzhao/Code Playground/xl/account_statement_hanmei.csv')\n",
    "df.head()"
   ]
  },
  {
   "cell_type": "code",
   "execution_count": 69,
   "metadata": {},
   "outputs": [],
   "source": [
    "df = df.drop(columns=['Product', 'Fee', 'Currency', 'State'])"
   ]
  },
  {
   "cell_type": "code",
   "execution_count": 70,
   "metadata": {},
   "outputs": [
    {
     "data": {
      "text/html": [
       "<div>\n",
       "<style scoped>\n",
       "    .dataframe tbody tr th:only-of-type {\n",
       "        vertical-align: middle;\n",
       "    }\n",
       "\n",
       "    .dataframe tbody tr th {\n",
       "        vertical-align: top;\n",
       "    }\n",
       "\n",
       "    .dataframe thead th {\n",
       "        text-align: right;\n",
       "    }\n",
       "</style>\n",
       "<table border=\"1\" class=\"dataframe\">\n",
       "  <thead>\n",
       "    <tr style=\"text-align: right;\">\n",
       "      <th></th>\n",
       "      <th>Type</th>\n",
       "      <th>Started Date</th>\n",
       "      <th>Completed Date</th>\n",
       "      <th>Description</th>\n",
       "      <th>Amount</th>\n",
       "      <th>Balance</th>\n",
       "    </tr>\n",
       "  </thead>\n",
       "  <tbody>\n",
       "    <tr>\n",
       "      <th>50</th>\n",
       "      <td>CARD_PAYMENT</td>\n",
       "      <td>2024-12-03 10:48:23</td>\n",
       "      <td>2024-12-04 09:54:51</td>\n",
       "      <td>Hallonbergen</td>\n",
       "      <td>-152.25</td>\n",
       "      <td>2685.52</td>\n",
       "    </tr>\n",
       "    <tr>\n",
       "      <th>56</th>\n",
       "      <td>CARD_PAYMENT</td>\n",
       "      <td>2024-12-11 12:00:43</td>\n",
       "      <td>2024-12-12 15:59:51</td>\n",
       "      <td>Hallonbergen</td>\n",
       "      <td>-211.25</td>\n",
       "      <td>1365.23</td>\n",
       "    </tr>\n",
       "  </tbody>\n",
       "</table>\n",
       "</div>"
      ],
      "text/plain": [
       "            Type         Started Date       Completed Date   Description  \\\n",
       "50  CARD_PAYMENT  2024-12-03 10:48:23  2024-12-04 09:54:51  Hallonbergen   \n",
       "56  CARD_PAYMENT  2024-12-11 12:00:43  2024-12-12 15:59:51  Hallonbergen   \n",
       "\n",
       "    Amount  Balance  \n",
       "50 -152.25  2685.52  \n",
       "56 -211.25  1365.23  "
      ]
     },
     "execution_count": 70,
     "metadata": {},
     "output_type": "execute_result"
    }
   ],
   "source": [
    "df[df['Description']=='Hallonbergen']"
   ]
  },
  {
   "cell_type": "code",
   "execution_count": 71,
   "metadata": {},
   "outputs": [
    {
     "data": {
      "text/plain": [
       "Type\n",
       "CARD_PAYMENT    64\n",
       "TRANSFER        16\n",
       "REWARD           2\n",
       "FEE              1\n",
       "Name: count, dtype: int64"
      ]
     },
     "execution_count": 71,
     "metadata": {},
     "output_type": "execute_result"
    }
   ],
   "source": [
    "df['Type'].value_counts()"
   ]
  },
  {
   "cell_type": "code",
   "execution_count": 72,
   "metadata": {},
   "outputs": [
    {
     "data": {
      "text/html": [
       "<div>\n",
       "<style scoped>\n",
       "    .dataframe tbody tr th:only-of-type {\n",
       "        vertical-align: middle;\n",
       "    }\n",
       "\n",
       "    .dataframe tbody tr th {\n",
       "        vertical-align: top;\n",
       "    }\n",
       "\n",
       "    .dataframe thead th {\n",
       "        text-align: right;\n",
       "    }\n",
       "</style>\n",
       "<table border=\"1\" class=\"dataframe\">\n",
       "  <thead>\n",
       "    <tr style=\"text-align: right;\">\n",
       "      <th></th>\n",
       "      <th>Type</th>\n",
       "      <th>Started Date</th>\n",
       "      <th>Completed Date</th>\n",
       "      <th>Description</th>\n",
       "      <th>Amount</th>\n",
       "      <th>Balance</th>\n",
       "    </tr>\n",
       "  </thead>\n",
       "  <tbody>\n",
       "    <tr>\n",
       "      <th>0</th>\n",
       "      <td>TRANSFER</td>\n",
       "      <td>2024-10-27 18:22:04</td>\n",
       "      <td>2024-10-27 18:22:04</td>\n",
       "      <td>From ZHEYUAN HE</td>\n",
       "      <td>200.00</td>\n",
       "      <td>200.00</td>\n",
       "    </tr>\n",
       "    <tr>\n",
       "      <th>1</th>\n",
       "      <td>TRANSFER</td>\n",
       "      <td>2024-10-27 18:23:41</td>\n",
       "      <td>2024-10-27 18:23:42</td>\n",
       "      <td>From ZHEYUAN HE</td>\n",
       "      <td>20.00</td>\n",
       "      <td>220.00</td>\n",
       "    </tr>\n",
       "    <tr>\n",
       "      <th>2</th>\n",
       "      <td>TRANSFER</td>\n",
       "      <td>2024-10-27 18:38:15</td>\n",
       "      <td>2024-10-27 18:38:16</td>\n",
       "      <td>To ZHEYUAN HE</td>\n",
       "      <td>-220.00</td>\n",
       "      <td>0.00</td>\n",
       "    </tr>\n",
       "    <tr>\n",
       "      <th>3</th>\n",
       "      <td>TRANSFER</td>\n",
       "      <td>2024-10-27 18:47:52</td>\n",
       "      <td>2024-10-27 18:47:52</td>\n",
       "      <td>From ZHEYUAN HE</td>\n",
       "      <td>100.00</td>\n",
       "      <td>100.00</td>\n",
       "    </tr>\n",
       "    <tr>\n",
       "      <th>4</th>\n",
       "      <td>FEE</td>\n",
       "      <td>2024-10-27 19:51:31</td>\n",
       "      <td>2024-10-27 19:51:31</td>\n",
       "      <td>Card Delivery Fee</td>\n",
       "      <td>-89.99</td>\n",
       "      <td>10.01</td>\n",
       "    </tr>\n",
       "  </tbody>\n",
       "</table>\n",
       "</div>"
      ],
      "text/plain": [
       "       Type         Started Date       Completed Date        Description  \\\n",
       "0  TRANSFER  2024-10-27 18:22:04  2024-10-27 18:22:04    From ZHEYUAN HE   \n",
       "1  TRANSFER  2024-10-27 18:23:41  2024-10-27 18:23:42    From ZHEYUAN HE   \n",
       "2  TRANSFER  2024-10-27 18:38:15  2024-10-27 18:38:16      To ZHEYUAN HE   \n",
       "3  TRANSFER  2024-10-27 18:47:52  2024-10-27 18:47:52    From ZHEYUAN HE   \n",
       "4       FEE  2024-10-27 19:51:31  2024-10-27 19:51:31  Card Delivery Fee   \n",
       "\n",
       "   Amount  Balance  \n",
       "0  200.00   200.00  \n",
       "1   20.00   220.00  \n",
       "2 -220.00     0.00  \n",
       "3  100.00   100.00  \n",
       "4  -89.99    10.01  "
      ]
     },
     "execution_count": 72,
     "metadata": {},
     "output_type": "execute_result"
    }
   ],
   "source": [
    "df.head()"
   ]
  },
  {
   "cell_type": "code",
   "execution_count": 73,
   "metadata": {},
   "outputs": [],
   "source": [
    "df_desc = df[['Description', 'Amount']]"
   ]
  },
  {
   "cell_type": "code",
   "execution_count": 74,
   "metadata": {},
   "outputs": [],
   "source": [
    "df_desc_group = df_desc.groupby('Description').sum()"
   ]
  },
  {
   "cell_type": "code",
   "execution_count": 75,
   "metadata": {},
   "outputs": [],
   "source": [
    "df_desc_group = df_desc_group[df_desc_group['Amount'] < 0]"
   ]
  },
  {
   "cell_type": "code",
   "execution_count": 76,
   "metadata": {},
   "outputs": [],
   "source": [
    "df_desc_group = df_desc_group.reset_index()"
   ]
  },
  {
   "cell_type": "code",
   "execution_count": 78,
   "metadata": {},
   "outputs": [],
   "source": [
    "df_desc_group['Type'] = ['Food', 'Daily', 'Other', 'Daily',\n",
    "                         'Daily', 'Daily', 'Clothes', 'Daily',\n",
    "                         'Food', 'Daily', 'Daily', 'Food',\n",
    "                         'Food', 'Food', 'Food', 'Daily',\n",
    "                         'Food', 'Food', 'Food', 'Daily',\n",
    "                         'Food', 'Other', 'Clothes', 'Clothes',\n",
    "                         'Food', 'Transfer', 'Transfer', 'Transfer',\n",
    "                         'Transfer','Transfer', 'Daily', 'Clothes']"
   ]
  },
  {
   "cell_type": "code",
   "execution_count": null,
   "metadata": {},
   "outputs": [],
   "source": [
    "df_temp = df_desc_group.groupby('Type').sum()"
   ]
  },
  {
   "cell_type": "code",
   "execution_count": 83,
   "metadata": {},
   "outputs": [
    {
     "data": {
      "text/html": [
       "<div>\n",
       "<style scoped>\n",
       "    .dataframe tbody tr th:only-of-type {\n",
       "        vertical-align: middle;\n",
       "    }\n",
       "\n",
       "    .dataframe tbody tr th {\n",
       "        vertical-align: top;\n",
       "    }\n",
       "\n",
       "    .dataframe thead th {\n",
       "        text-align: right;\n",
       "    }\n",
       "</style>\n",
       "<table border=\"1\" class=\"dataframe\">\n",
       "  <thead>\n",
       "    <tr style=\"text-align: right;\">\n",
       "      <th></th>\n",
       "      <th>Description</th>\n",
       "      <th>Amount</th>\n",
       "    </tr>\n",
       "    <tr>\n",
       "      <th>Type</th>\n",
       "      <th></th>\n",
       "      <th></th>\n",
       "    </tr>\n",
       "  </thead>\n",
       "  <tbody>\n",
       "    <tr>\n",
       "      <th>Clothes</th>\n",
       "      <td>H&amp;MSolna centrumStadiumÅhléns</td>\n",
       "      <td>-1226.49</td>\n",
       "    </tr>\n",
       "    <tr>\n",
       "      <th>Daily</th>\n",
       "      <td>Asian MarketClas OhlsonCoopCostcoHallonbergenH...</td>\n",
       "      <td>-4213.74</td>\n",
       "    </tr>\n",
       "    <tr>\n",
       "      <th>Food</th>\n",
       "      <td>7-ElevenHao KokIKEAIr Livs AbKina MurenKista S...</td>\n",
       "      <td>-1581.52</td>\n",
       "    </tr>\n",
       "    <tr>\n",
       "      <th>Other</th>\n",
       "      <td>Card Delivery FeeSANIBOX</td>\n",
       "      <td>-99.99</td>\n",
       "    </tr>\n",
       "    <tr>\n",
       "      <th>Transfer</th>\n",
       "      <td>To LEYI YINTo SONG ZHAOTo Song ZTo YANGTAO CHE...</td>\n",
       "      <td>-5130.00</td>\n",
       "    </tr>\n",
       "  </tbody>\n",
       "</table>\n",
       "</div>"
      ],
      "text/plain": [
       "                                                Description   Amount\n",
       "Type                                                                \n",
       "Clothes                       H&MSolna centrumStadiumÅhléns -1226.49\n",
       "Daily     Asian MarketClas OhlsonCoopCostcoHallonbergenH... -4213.74\n",
       "Food      7-ElevenHao KokIKEAIr Livs AbKina MurenKista S... -1581.52\n",
       "Other                              Card Delivery FeeSANIBOX   -99.99\n",
       "Transfer  To LEYI YINTo SONG ZHAOTo Song ZTo YANGTAO CHE... -5130.00"
      ]
     },
     "execution_count": 83,
     "metadata": {},
     "output_type": "execute_result"
    }
   ],
   "source": [
    "df_temp"
   ]
  },
  {
   "cell_type": "code",
   "execution_count": 82,
   "metadata": {},
   "outputs": [
    {
     "data": {
      "image/png": "[encoded data removed]",
      "text/plain": [
       "<Figure size 1000x800 with 1 Axes>"
      ]
     },
     "metadata": {},
     "output_type": "display_data"
    }
   ],
   "source": [
    "df_temp.plot(kind='bar',\n",
    "             figsize=(10,8),\n",
    "             title='Type of Consumption',\n",
    "             xlabel='Types',\n",
    "             ylabel='Amount')\n",
    "plt.show()"
   ]
  },
  {
   "cell_type": "code",
   "execution_count": null,
   "metadata": {},
   "outputs": [],
   "source": []
  }
 ],
 "metadata": {
  "kernelspec": {
   "display_name": "Python 3 (ipykernel)",
   "language": "python",
   "name": "python3"
  },
  "language_info": {
   "codemirror_mode": {
    "name": "ipython",
    "version": 3
   },
   "file_extension": ".py",
   "mimetype": "text/x-python",
   "name": "python",
   "nbconvert_exporter": "python",
   "pygments_lexer": "ipython3",
   "version": "3.11.7"
  }
 },
 "nbformat": 4,
 "nbformat_minor": 2
}
