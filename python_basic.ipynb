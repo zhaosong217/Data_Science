{
 "cells": [
  {
   "cell_type": "code",
   "execution_count": 63,
   "metadata": {},
   "outputs": [
    {
     "name": "stdout",
     "output_type": "stream",
     "text": [
      "[1 3 5 7 9]\n"
     ]
    }
   ],
   "source": [
    "import numpy as np\n",
    "\n",
    "x_array = np.arange(1,11, 2)\n",
    "# 可以使用“command+/”快速将某一行变成注释行，或者取消注释\n",
    "print(x_array)"
   ]
  },
  {
   "cell_type": "code",
   "execution_count": 64,
   "metadata": {},
   "outputs": [
    {
     "name": "stdout",
     "output_type": "stream",
     "text": [
      "字符：H，索引：0\n",
      "字符：e，索引：1\n",
      "字符：y，索引：2\n",
      "字符：,，索引：3\n",
      "字符： ，索引：4\n",
      "字符：J，索引：5\n",
      "字符：a，索引：6\n",
      "字符：c，索引：7\n",
      "字符：k，索引：8\n",
      "字符：!，索引：9\n"
     ]
    }
   ],
   "source": [
    "greeting_str = \"Hey, Jack!\"\n",
    "# 使用enumerate函数，可以同时获取索引和值\n",
    "for index, char in enumerate(greeting_str, start=0):\n",
    "    print(f\"字符：{char}，索引：{index}\")"
   ]
  },
  {
   "cell_type": "markdown",
   "metadata": {},
   "source": [
    "快速把单元格光标处分裂成两格单元格的快捷键“control + shift + -”"
   ]
  },
  {
   "cell_type": "code",
   "execution_count": 65,
   "metadata": {},
   "outputs": [
    {
     "name": "stdout",
     "output_type": "stream",
     "text": [
      "[84, 28, 60, 75, 85, 79, 85, 48, 93, 5]\n",
      "第1个元素是：84\n",
      "第2个元素是：28\n",
      "第3个元素是：60\n",
      "第4个元素是：75\n",
      "第5个元素是：85\n",
      "第6个元素是：79\n",
      "第7个元素是：85\n",
      "第8个元素是：48\n",
      "第9个元素是：93\n",
      "第10个元素是：5\n"
     ]
    }
   ],
   "source": [
    "# enumerate函数：将一个可遍历的数据对象(如列表、元组或字符串)组合为一个索引序列，\n",
    "# 同时列出数据和数据下标，一般用在 for 循环当中，例如👇\n",
    "import random\n",
    "ls = [random.randint(1, 101) for i in range(10)]\n",
    "print(ls)\n",
    "for index, value in enumerate(ls, start=1):\n",
    "    print(f\"第{index}个元素是：{value}\")"
   ]
  },
  {
   "cell_type": "code",
   "execution_count": 66,
   "metadata": {},
   "outputs": [
    {
     "name": "stdout",
     "output_type": "stream",
     "text": [
      "[0, 5]\n",
      "[3, 4]\n",
      "[5, 0]\n",
      "[0, 3, 5]\n",
      "[5, 4, 0]\n"
     ]
    }
   ],
   "source": [
    "a = [[0, 5],\n",
    "     [3, 4],\n",
    "     [5, 0]]\n",
    "# 取出行向量\n",
    "for i in range(3):\n",
    "    print(a[i])\n",
    "# 取出列向量\n",
    "print([row[0] for row in a])\n",
    "print([row[1] for row in a])"
   ]
  },
  {
   "cell_type": "markdown",
   "metadata": {},
   "source": [
    "鸢尾花数据集：是一种经典的用于机器学习和模式识别的数据集。由统计学家罗纳德·费舍尔 (Ronald Fisher) 在1936 年引入，并被广泛用于模式识别和机器学习的教学和研究。是机器学习领域的一个基准测试数据集，被用来评估分类算法的性能。加载方法如下："
   ]
  },
  {
   "cell_type": "code",
   "execution_count": 67,
   "metadata": {},
   "outputs": [
    {
     "name": "stdout",
     "output_type": "stream",
     "text": [
      "[[5.1 3.5 1.4 0.2]\n",
      " [4.9 3.  1.4 0.2]\n",
      " [4.7 3.2 1.3 0.2]\n",
      " [4.6 3.1 1.5 0.2]\n",
      " [5.  3.6 1.4 0.2]\n",
      " [5.4 3.9 1.7 0.4]\n",
      " [4.6 3.4 1.4 0.3]\n",
      " [5.  3.4 1.5 0.2]\n",
      " [4.4 2.9 1.4 0.2]\n",
      " [4.9 3.1 1.5 0.1]\n",
      " [5.4 3.7 1.5 0.2]\n",
      " [4.8 3.4 1.6 0.2]\n",
      " [4.8 3.  1.4 0.1]\n",
      " [4.3 3.  1.1 0.1]\n",
      " [5.8 4.  1.2 0.2]\n",
      " [5.7 4.4 1.5 0.4]\n",
      " [5.4 3.9 1.3 0.4]\n",
      " [5.1 3.5 1.4 0.3]\n",
      " [5.7 3.8 1.7 0.3]\n",
      " [5.1 3.8 1.5 0.3]\n",
      " [5.4 3.4 1.7 0.2]\n",
      " [5.1 3.7 1.5 0.4]\n",
      " [4.6 3.6 1.  0.2]\n",
      " [5.1 3.3 1.7 0.5]\n",
      " [4.8 3.4 1.9 0.2]\n",
      " [5.  3.  1.6 0.2]\n",
      " [5.  3.4 1.6 0.4]\n",
      " [5.2 3.5 1.5 0.2]\n",
      " [5.2 3.4 1.4 0.2]\n",
      " [4.7 3.2 1.6 0.2]\n",
      " [4.8 3.1 1.6 0.2]\n",
      " [5.4 3.4 1.5 0.4]\n",
      " [5.2 4.1 1.5 0.1]\n",
      " [5.5 4.2 1.4 0.2]\n",
      " [4.9 3.1 1.5 0.2]\n",
      " [5.  3.2 1.2 0.2]\n",
      " [5.5 3.5 1.3 0.2]\n",
      " [4.9 3.6 1.4 0.1]\n",
      " [4.4 3.  1.3 0.2]\n",
      " [5.1 3.4 1.5 0.2]\n",
      " [5.  3.5 1.3 0.3]\n",
      " [4.5 2.3 1.3 0.3]\n",
      " [4.4 3.2 1.3 0.2]\n",
      " [5.  3.5 1.6 0.6]\n",
      " [5.1 3.8 1.9 0.4]\n",
      " [4.8 3.  1.4 0.3]\n",
      " [5.1 3.8 1.6 0.2]\n",
      " [4.6 3.2 1.4 0.2]\n",
      " [5.3 3.7 1.5 0.2]\n",
      " [5.  3.3 1.4 0.2]\n",
      " [7.  3.2 4.7 1.4]\n",
      " [6.4 3.2 4.5 1.5]\n",
      " [6.9 3.1 4.9 1.5]\n",
      " [5.5 2.3 4.  1.3]\n",
      " [6.5 2.8 4.6 1.5]\n",
      " [5.7 2.8 4.5 1.3]\n",
      " [6.3 3.3 4.7 1.6]\n",
      " [4.9 2.4 3.3 1. ]\n",
      " [6.6 2.9 4.6 1.3]\n",
      " [5.2 2.7 3.9 1.4]\n",
      " [5.  2.  3.5 1. ]\n",
      " [5.9 3.  4.2 1.5]\n",
      " [6.  2.2 4.  1. ]\n",
      " [6.1 2.9 4.7 1.4]\n",
      " [5.6 2.9 3.6 1.3]\n",
      " [6.7 3.1 4.4 1.4]\n",
      " [5.6 3.  4.5 1.5]\n",
      " [5.8 2.7 4.1 1. ]\n",
      " [6.2 2.2 4.5 1.5]\n",
      " [5.6 2.5 3.9 1.1]\n",
      " [5.9 3.2 4.8 1.8]\n",
      " [6.1 2.8 4.  1.3]\n",
      " [6.3 2.5 4.9 1.5]\n",
      " [6.1 2.8 4.7 1.2]\n",
      " [6.4 2.9 4.3 1.3]\n",
      " [6.6 3.  4.4 1.4]\n",
      " [6.8 2.8 4.8 1.4]\n",
      " [6.7 3.  5.  1.7]\n",
      " [6.  2.9 4.5 1.5]\n",
      " [5.7 2.6 3.5 1. ]\n",
      " [5.5 2.4 3.8 1.1]\n",
      " [5.5 2.4 3.7 1. ]\n",
      " [5.8 2.7 3.9 1.2]\n",
      " [6.  2.7 5.1 1.6]\n",
      " [5.4 3.  4.5 1.5]\n",
      " [6.  3.4 4.5 1.6]\n",
      " [6.7 3.1 4.7 1.5]\n",
      " [6.3 2.3 4.4 1.3]\n",
      " [5.6 3.  4.1 1.3]\n",
      " [5.5 2.5 4.  1.3]\n",
      " [5.5 2.6 4.4 1.2]\n",
      " [6.1 3.  4.6 1.4]\n",
      " [5.8 2.6 4.  1.2]\n",
      " [5.  2.3 3.3 1. ]\n",
      " [5.6 2.7 4.2 1.3]\n",
      " [5.7 3.  4.2 1.2]\n",
      " [5.7 2.9 4.2 1.3]\n",
      " [6.2 2.9 4.3 1.3]\n",
      " [5.1 2.5 3.  1.1]\n",
      " [5.7 2.8 4.1 1.3]\n",
      " [6.3 3.3 6.  2.5]\n",
      " [5.8 2.7 5.1 1.9]\n",
      " [7.1 3.  5.9 2.1]\n",
      " [6.3 2.9 5.6 1.8]\n",
      " [6.5 3.  5.8 2.2]\n",
      " [7.6 3.  6.6 2.1]\n",
      " [4.9 2.5 4.5 1.7]\n",
      " [7.3 2.9 6.3 1.8]\n",
      " [6.7 2.5 5.8 1.8]\n",
      " [7.2 3.6 6.1 2.5]\n",
      " [6.5 3.2 5.1 2. ]\n",
      " [6.4 2.7 5.3 1.9]\n",
      " [6.8 3.  5.5 2.1]\n",
      " [5.7 2.5 5.  2. ]\n",
      " [5.8 2.8 5.1 2.4]\n",
      " [6.4 3.2 5.3 2.3]\n",
      " [6.5 3.  5.5 1.8]\n",
      " [7.7 3.8 6.7 2.2]\n",
      " [7.7 2.6 6.9 2.3]\n",
      " [6.  2.2 5.  1.5]\n",
      " [6.9 3.2 5.7 2.3]\n",
      " [5.6 2.8 4.9 2. ]\n",
      " [7.7 2.8 6.7 2. ]\n",
      " [6.3 2.7 4.9 1.8]\n",
      " [6.7 3.3 5.7 2.1]\n",
      " [7.2 3.2 6.  1.8]\n",
      " [6.2 2.8 4.8 1.8]\n",
      " [6.1 3.  4.9 1.8]\n",
      " [6.4 2.8 5.6 2.1]\n",
      " [7.2 3.  5.8 1.6]\n",
      " [7.4 2.8 6.1 1.9]\n",
      " [7.9 3.8 6.4 2. ]\n",
      " [6.4 2.8 5.6 2.2]\n",
      " [6.3 2.8 5.1 1.5]\n",
      " [6.1 2.6 5.6 1.4]\n",
      " [7.7 3.  6.1 2.3]\n",
      " [6.3 3.4 5.6 2.4]\n",
      " [6.4 3.1 5.5 1.8]\n",
      " [6.  3.  4.8 1.8]\n",
      " [6.9 3.1 5.4 2.1]\n",
      " [6.7 3.1 5.6 2.4]\n",
      " [6.9 3.1 5.1 2.3]\n",
      " [5.8 2.7 5.1 1.9]\n",
      " [6.8 3.2 5.9 2.3]\n",
      " [6.7 3.3 5.7 2.5]\n",
      " [6.7 3.  5.2 2.3]\n",
      " [6.3 2.5 5.  1.9]\n",
      " [6.5 3.  5.2 2. ]\n",
      " [6.2 3.4 5.4 2.3]\n",
      " [5.9 3.  5.1 1.8]]\n",
      "[0 0 0 0 0 0 0 0 0 0 0 0 0 0 0 0 0 0 0 0 0 0 0 0 0 0 0 0 0 0 0 0 0 0 0 0 0\n",
      " 0 0 0 0 0 0 0 0 0 0 0 0 0 1 1 1 1 1 1 1 1 1 1 1 1 1 1 1 1 1 1 1 1 1 1 1 1\n",
      " 1 1 1 1 1 1 1 1 1 1 1 1 1 1 1 1 1 1 1 1 1 1 1 1 1 1 2 2 2 2 2 2 2 2 2 2 2\n",
      " 2 2 2 2 2 2 2 2 2 2 2 2 2 2 2 2 2 2 2 2 2 2 2 2 2 2 2 2 2 2 2 2 2 2 2 2 2\n",
      " 2 2]\n"
     ]
    }
   ],
   "source": [
    "from sklearn.datasets import load_iris\n",
    "iris = load_iris()\n",
    "# 特征数据\n",
    "print(iris.data) \n",
    "# 标签\n",
    "print(iris.target)"
   ]
  },
  {
   "cell_type": "markdown",
   "metadata": {},
   "source": [
    "数据集简介:\n",
    "\n",
    "\t•\t样本数量：150个数据样本。\n",
    "\n",
    "\t•\t类别：分为三种鸢尾花品种，每类50个样本：\n",
    "\n",
    "\t\t•\t山鸢尾（Iris-Setosa）\n",
    "\t\t•\t变色鸢尾（Iris-Versicolour）\n",
    "\t\t•\t维吉尼亚鸢尾（Iris-Virginica）\n",
    "\n",
    "\t•\t特征数量：4个数值型特征，单位为厘米：\n",
    "\t\t•\t萼片长度（Sepal Length）\n",
    "\t\t•\t萼片宽度（Sepal Width）\n",
    "\t\t•\t花瓣长度（Petal Length）\n",
    "\t\t•\t花瓣宽度（Petal Width）"
   ]
  },
  {
   "cell_type": "code",
   "execution_count": 68,
   "metadata": {},
   "outputs": [
    {
     "name": "stdout",
     "output_type": "stream",
     "text": [
      "     0    1    2    3            4\n",
      "0  5.1  3.5  1.4  0.2  Iris-setosa\n",
      "1  4.9  3.0  1.4  0.2  Iris-setosa\n",
      "2  4.7  3.2  1.3  0.2  Iris-setosa\n",
      "3  4.6  3.1  1.5  0.2  Iris-setosa\n",
      "4  5.0  3.6  1.4  0.2  Iris-setosa\n"
     ]
    }
   ],
   "source": [
    "# 使用pandas库导入Iris数据\n",
    "import pandas as pd\n",
    "iris = pd.read_csv('https://archive.ics.uci.edu/ml/machine-learning-databases/iris/iris.data', header=None)\n",
    "print(iris.head())"
   ]
  },
  {
   "cell_type": "code",
   "execution_count": 69,
   "metadata": {},
   "outputs": [
    {
     "data": {
      "text/html": [
       "<div>\n",
       "<style scoped>\n",
       "    .dataframe tbody tr th:only-of-type {\n",
       "        vertical-align: middle;\n",
       "    }\n",
       "\n",
       "    .dataframe tbody tr th {\n",
       "        vertical-align: top;\n",
       "    }\n",
       "\n",
       "    .dataframe thead th {\n",
       "        text-align: right;\n",
       "    }\n",
       "</style>\n",
       "<table border=\"1\" class=\"dataframe\">\n",
       "  <thead>\n",
       "    <tr style=\"text-align: right;\">\n",
       "      <th></th>\n",
       "      <th>sepal length (cm)</th>\n",
       "      <th>sepal width (cm)</th>\n",
       "      <th>petal length (cm)</th>\n",
       "      <th>petal width (cm)</th>\n",
       "    </tr>\n",
       "  </thead>\n",
       "  <tbody>\n",
       "    <tr>\n",
       "      <th>0</th>\n",
       "      <td>5.1</td>\n",
       "      <td>3.5</td>\n",
       "      <td>1.4</td>\n",
       "      <td>0.2</td>\n",
       "    </tr>\n",
       "    <tr>\n",
       "      <th>1</th>\n",
       "      <td>4.9</td>\n",
       "      <td>3.0</td>\n",
       "      <td>1.4</td>\n",
       "      <td>0.2</td>\n",
       "    </tr>\n",
       "    <tr>\n",
       "      <th>2</th>\n",
       "      <td>4.7</td>\n",
       "      <td>3.2</td>\n",
       "      <td>1.3</td>\n",
       "      <td>0.2</td>\n",
       "    </tr>\n",
       "    <tr>\n",
       "      <th>3</th>\n",
       "      <td>4.6</td>\n",
       "      <td>3.1</td>\n",
       "      <td>1.5</td>\n",
       "      <td>0.2</td>\n",
       "    </tr>\n",
       "    <tr>\n",
       "      <th>4</th>\n",
       "      <td>5.0</td>\n",
       "      <td>3.6</td>\n",
       "      <td>1.4</td>\n",
       "      <td>0.2</td>\n",
       "    </tr>\n",
       "  </tbody>\n",
       "</table>\n",
       "</div>"
      ],
      "text/plain": [
       "   sepal length (cm)  sepal width (cm)  petal length (cm)  petal width (cm)\n",
       "0                5.1               3.5                1.4               0.2\n",
       "1                4.9               3.0                1.4               0.2\n",
       "2                4.7               3.2                1.3               0.2\n",
       "3                4.6               3.1                1.5               0.2\n",
       "4                5.0               3.6                1.4               0.2"
      ]
     },
     "execution_count": 69,
     "metadata": {},
     "output_type": "execute_result"
    }
   ],
   "source": [
    "# 综合方法，使用sklearn库导入Iris数据，然后转换成pandas数据框\n",
    "from sklearn.datasets import load_iris\n",
    "import pandas as pd\n",
    "\n",
    "iris = load_iris()\n",
    "df_data = pd.DataFrame(iris.data, columns=iris.feature_names)\n",
    "df_data.head()"
   ]
  },
  {
   "cell_type": "code",
   "execution_count": 70,
   "metadata": {},
   "outputs": [
    {
     "data": {
      "text/html": [
       "<div>\n",
       "<style scoped>\n",
       "    .dataframe tbody tr th:only-of-type {\n",
       "        vertical-align: middle;\n",
       "    }\n",
       "\n",
       "    .dataframe tbody tr th {\n",
       "        vertical-align: top;\n",
       "    }\n",
       "\n",
       "    .dataframe thead th {\n",
       "        text-align: right;\n",
       "    }\n",
       "</style>\n",
       "<table border=\"1\" class=\"dataframe\">\n",
       "  <thead>\n",
       "    <tr style=\"text-align: right;\">\n",
       "      <th></th>\n",
       "      <th>target</th>\n",
       "    </tr>\n",
       "  </thead>\n",
       "  <tbody>\n",
       "    <tr>\n",
       "      <th>0</th>\n",
       "      <td>0</td>\n",
       "    </tr>\n",
       "    <tr>\n",
       "      <th>1</th>\n",
       "      <td>0</td>\n",
       "    </tr>\n",
       "    <tr>\n",
       "      <th>2</th>\n",
       "      <td>0</td>\n",
       "    </tr>\n",
       "    <tr>\n",
       "      <th>3</th>\n",
       "      <td>0</td>\n",
       "    </tr>\n",
       "    <tr>\n",
       "      <th>4</th>\n",
       "      <td>0</td>\n",
       "    </tr>\n",
       "  </tbody>\n",
       "</table>\n",
       "</div>"
      ],
      "text/plain": [
       "   target\n",
       "0       0\n",
       "1       0\n",
       "2       0\n",
       "3       0\n",
       "4       0"
      ]
     },
     "execution_count": 70,
     "metadata": {},
     "output_type": "execute_result"
    }
   ],
   "source": [
    "df_target = pd.DataFrame(iris.target, columns=['target'])\n",
    "df_target.head()"
   ]
  },
  {
   "cell_type": "code",
   "execution_count": 71,
   "metadata": {},
   "outputs": [
    {
     "name": "stdout",
     "output_type": "stream",
     "text": [
      "(1, 2)\n",
      "(1, 3)\n",
      "(1, 4)\n",
      "(2, 3)\n",
      "(2, 4)\n",
      "(3, 4)\n"
     ]
    }
   ],
   "source": [
    "# 关于itertools.combinations()函数的用法\n",
    "import itertools\n",
    "# 生成所有可能的组合（非重复组合），其中第一个参数是要进行组合的元素列表，第二个参数是组合的元素个数\n",
    "combinations = itertools.combinations([1, 2, 3, 4], 2)\n",
    "for combination in combinations:\n",
    "    print(combination)"
   ]
  },
  {
   "cell_type": "code",
   "execution_count": 72,
   "metadata": {},
   "outputs": [
    {
     "name": "stdout",
     "output_type": "stream",
     "text": [
      "(1, 1)\n",
      "(1, 2)\n",
      "(1, 3)\n",
      "(1, 4)\n",
      "(2, 2)\n",
      "(2, 3)\n",
      "(2, 4)\n",
      "(3, 3)\n",
      "(3, 4)\n",
      "(4, 4)\n"
     ]
    }
   ],
   "source": [
    "# 生成所有可能的组合（重复组合），其中第一个参数是要进行组合的元素列表，第二个参数是组合的元素个数\n",
    "combinations = itertools.combinations_with_replacement([1, 2, 3, 4], 2)\n",
    "for combination in combinations:\n",
    "    print(combination)"
   ]
  },
  {
   "cell_type": "code",
   "execution_count": 73,
   "metadata": {},
   "outputs": [
    {
     "name": "stdout",
     "output_type": "stream",
     "text": [
      "(1, 2)\n",
      "(1, 3)\n",
      "(1, 4)\n",
      "(2, 1)\n",
      "(2, 3)\n",
      "(2, 4)\n",
      "(3, 1)\n",
      "(3, 2)\n",
      "(3, 4)\n",
      "(4, 1)\n",
      "(4, 2)\n",
      "(4, 3)\n"
     ]
    }
   ],
   "source": [
    "# 生成指定序列中元素的所有排列\n",
    "permutations = itertools.permutations([1, 2, 3, 4], 2)\n",
    "for permutation in permutations:\n",
    "    print(permutation)"
   ]
  },
  {
   "cell_type": "code",
   "execution_count": 74,
   "metadata": {},
   "outputs": [],
   "source": [
    "# 计算两个向量的内积（点积）\n",
    "a = [i for i in range(1, 6)]\n",
    "b = [i for i in range(6, 11)]"
   ]
  },
  {
   "cell_type": "code",
   "execution_count": 75,
   "metadata": {},
   "outputs": [
    {
     "name": "stdout",
     "output_type": "stream",
     "text": [
      "130\n"
     ]
    }
   ],
   "source": [
    "\n",
    "# 初始化内积为0\n",
    "dot_product = 0\n",
    "\n",
    "# 计算内积\n",
    "for i in range(len(a)):\n",
    "    dot_product += a[i] * b[i]\n",
    "\n",
    "print(dot_product)"
   ]
  },
  {
   "cell_type": "code",
   "execution_count": 76,
   "metadata": {},
   "outputs": [
    {
     "name": "stdout",
     "output_type": "stream",
     "text": [
      "[[ 4.  5.  6.]\n",
      " [ 8. 10. 12.]\n",
      " [12. 15. 18.]]\n"
     ]
    }
   ],
   "source": [
    "# 计算两个向量的外积（叉积）\n",
    "a = [1, 2, 3]\n",
    "b = [4, 5, 6]\n",
    "\n",
    "# 初始化外积为0 \n",
    "outer_product = np.zeros((len(a), len(b)))\n",
    "\n",
    "# 计算外积\n",
    "for i in range(len(a)):\n",
    "    for j in range(len(b)):\n",
    "        outer_product[i][j] = a[i] * b[j]\n",
    "\n",
    "print(outer_product)"
   ]
  },
  {
   "cell_type": "markdown",
   "metadata": {},
   "source": [
    "zip()的用法"
   ]
  },
  {
   "cell_type": "code",
   "execution_count": null,
   "metadata": {},
   "outputs": [
    {
     "name": "stdout",
     "output_type": "stream",
     "text": [
      "Alice is 25 years old.\n",
      "Bob is 30 years old.\n",
      "Charlie is 35 years old.\n"
     ]
    }
   ],
   "source": [
    "names = ['Alice', 'Bob', 'Charlie']\n",
    "ages = [25, 30, 35]\n",
    "\n",
    "# 使用zip()函数将两个列表组合成一个元组列表\n",
    "for name, age in zip(names, ages):\n",
    "    print(f\"{name} is {age} years old.\")"
   ]
  },
  {
   "cell_type": "markdown",
   "metadata": {},
   "source": [
    "两个矩阵的乘法"
   ]
  },
  {
   "cell_type": "code",
   "execution_count": 82,
   "metadata": {},
   "outputs": [],
   "source": [
    "a = [[1, 2, 10, 20],\n",
    "     [3, 4, 30, 40],\n",
    "     [5, 6, 50, 60]]\n",
    "b = [[4, 2],\n",
    "     [3, 1],\n",
    "     [40, 20],\n",
    "     [30, 10]]\n",
    "# c变量用来存法结果\n",
    "c = [[0, 0],\n",
    "     [0, 0],\n",
    "     [0, 0]]"
   ]
  },
  {
   "cell_type": "code",
   "execution_count": 83,
   "metadata": {},
   "outputs": [
    {
     "name": "stdout",
     "output_type": "stream",
     "text": [
      "[1010, 404]\n",
      "[2424, 1010]\n",
      "[3838, 1616]\n"
     ]
    }
   ],
   "source": [
    "for i in range(len(a)):\n",
    "    for j in range(len(b[0])): \n",
    "        for k in range(len(b)): \n",
    "            c[i][j] += a[i][k] * b[k][j]\n",
    "for row in c:\n",
    "    print(row)"
   ]
  },
  {
   "cell_type": "code",
   "execution_count": 84,
   "metadata": {},
   "outputs": [
    {
     "name": "stdout",
     "output_type": "stream",
     "text": [
      "[[1010  404]\n",
      " [2424 1010]\n",
      " [3838 1616]]\n"
     ]
    }
   ],
   "source": [
    "# 矩阵乘法\n",
    "a = np.array(a)\n",
    "b = np.array(b)\n",
    "\n",
    "# 使用numpy的dot()函数计算矩阵乘法\n",
    "result = np.dot(a, b)\n",
    "print(result)"
   ]
  },
  {
   "cell_type": "code",
   "execution_count": 85,
   "metadata": {},
   "outputs": [
    {
     "name": "stdout",
     "output_type": "stream",
     "text": [
      "[[1010  404]\n",
      " [2424 1010]\n",
      " [3838 1616]]\n"
     ]
    }
   ],
   "source": [
    "result = a @ b\n",
    "print(result)"
   ]
  },
  {
   "cell_type": "markdown",
   "metadata": {},
   "source": [
    "列表生成式(list comprehension)的用法"
   ]
  },
  {
   "cell_type": "code",
   "execution_count": 87,
   "metadata": {},
   "outputs": [
    {
     "name": "stdout",
     "output_type": "stream",
     "text": [
      "[1, 4, 9, 16, 25, 36, 49, 64, 81, 100]\n"
     ]
    }
   ],
   "source": [
    "# 生成一个包含1到10的平方的列表\n",
    "squares = [x**2 for x in range(1, 11)]\n",
    "print(squares)"
   ]
  },
  {
   "cell_type": "code",
   "execution_count": 89,
   "metadata": {},
   "outputs": [
    {
     "name": "stdout",
     "output_type": "stream",
     "text": [
      "[[1, 2, 3], [2, 4, 6], [3, 6, 9]]\n"
     ]
    }
   ],
   "source": [
    "# 列表生成式的嵌套用法\n",
    "matrix = [[i*j for j in range(1,4)] for i in range(1, 4)]\n",
    "print(matrix)"
   ]
  },
  {
   "cell_type": "code",
   "execution_count": 90,
   "metadata": {},
   "outputs": [
    {
     "name": "stdout",
     "output_type": "stream",
     "text": [
      "[2, 4, 6, 8, 10]\n"
     ]
    }
   ],
   "source": [
    "even_nums = [x for x in range(1, 11) if x % 2 == 0]\n",
    "print(even_nums)"
   ]
  },
  {
   "cell_type": "markdown",
   "metadata": {},
   "source": [
    "Exercises:"
   ]
  },
  {
   "cell_type": "code",
   "execution_count": null,
   "metadata": {},
   "outputs": [],
   "source": [
    "class Solution:\n",
    "    # 输入一个数字并将其转换为整数，如果输入的不是数字，则提示用户重新输入直到输入数字为止。\n",
    "    def is_num(self):\n",
    "        while True:\n",
    "            num = input(\"请输入一个数字：\")\n",
    "            try:\n",
    "                num = int(num)\n",
    "                print(f\"您输入的整数是：{num}\")\n",
    "                break\n",
    "            except ValueError:\n",
    "                print(\"输入的不是整数，请重新输入！\")\n",
    "    # 求100以内的素数。\n",
    "    def is_prime(self, n):\n",
    "        if n <= 1:\n",
    "            return False\n",
    "        for i in range(2, int(n**0.5)+1):\n",
    "            if n % i == 0:\n",
    "                return False\n",
    "        return True\n",
    "    # 请用至少两种不同办法计算 1-100 中奇数之和。\n",
    "    def sum_odd1(self, n):\n",
    "        return sum(x for x in range(1, n+1) if x % 2 == 1)\n",
    "    def sum_odd2(self, n):\n",
    "        return sum(x for x in range(1, n+1, 2))\n",
    "    def sum_odd3(self, n):\n",
    "        total = sum(x for x in range(1, n+1))\n",
    "        return total//2 - (n//4)\n",
    "    # 写两个函数分别计算矩阵行、列方向元素之和。\n",
    "    def sum_row(self, matrix):\n",
    "        row_sums = []        \n",
    "        for i in range(len(matrix)):\n",
    "            temp = 0\n",
    "            for j in range(len(matrix[i])):\n",
    "                temp += matrix[i][j]\n",
    "            row_sums.append(temp)\n",
    "        return sum(row_sums)\n",
    "    def sum_col(self, matrix):\n",
    "        col_sums = []\n",
    "        for i in range(len(matrix[0])):\n",
    "            temp = 0\n",
    "            for j in range(len(matrix)):\n",
    "                temp += matrix[j][i]\n",
    "            col_sums.append(temp)\n",
    "        return sum(col_sums)"
   ]
  },
  {
   "cell_type": "code",
   "execution_count": 128,
   "metadata": {},
   "outputs": [
    {
     "name": "stdout",
     "output_type": "stream",
     "text": [
      "输入的不是整数，请重新输入！\n",
      "您输入的整数是：45\n"
     ]
    }
   ],
   "source": [
    "if __name__ == \"__main__\":\n",
    "    s = Solution()\n",
    "    s.is_num()"
   ]
  },
  {
   "cell_type": "code",
   "execution_count": 129,
   "metadata": {},
   "outputs": [
    {
     "name": "stdout",
     "output_type": "stream",
     "text": [
      "[2, 3, 5, 7, 11, 13, 17, 19, 23, 29, 31, 37, 41, 43, 47, 53, 59, 61, 67, 71, 73, 79, 83, 89, 97]\n"
     ]
    }
   ],
   "source": [
    "if __name__ == \"__main__\":\n",
    "    s = Solution()\n",
    "    prime_nums = [x for x in range(2, 101) if s.is_prime(x)]\n",
    "    print(prime_nums)"
   ]
  },
  {
   "cell_type": "code",
   "execution_count": 140,
   "metadata": {},
   "outputs": [
    {
     "name": "stdout",
     "output_type": "stream",
     "text": [
      "25\n",
      "25\n",
      "25\n"
     ]
    }
   ],
   "source": [
    "if __name__ == \"__main__\":\n",
    "    s = Solution()\n",
    "    print(s.sum_odd1(10))\n",
    "    print(s.sum_odd2(10))\n",
    "    print(s.sum_odd3(10))"
   ]
  },
  {
   "cell_type": "code",
   "execution_count": 148,
   "metadata": {},
   "outputs": [
    {
     "name": "stdout",
     "output_type": "stream",
     "text": [
      "78\n",
      "78\n"
     ]
    }
   ],
   "source": [
    "ls = [[1,2,3,4],\n",
    "     [5,6,7,8],\n",
    "     [9,10,11,12]]\n",
    "if __name__ == \"__main__\":\n",
    "    s = Solution()\n",
    "    print(s.sum_row(ls))\n",
    "    print(s.sum_col(ls))"
   ]
  },
  {
   "cell_type": "markdown",
   "metadata": {},
   "source": [
    "$2 \\times 2矩阵\\boldsymbol {A} = \\begin{bmatrix} a & b \\\\\n",
    "c & d \\end{bmatrix}的逆为\\frac {1}{ad-bc}\\begin{bmatrix} d & -b \\\\\n",
    "-c & a \\end{bmatrix}。$"
   ]
  }
 ],
 "metadata": {
  "kernelspec": {
   "display_name": "Python 3 (ipykernel)",
   "language": "python",
   "name": "python3"
  },
  "language_info": {
   "codemirror_mode": {
    "name": "ipython",
    "version": 3
   },
   "file_extension": ".py",
   "mimetype": "text/x-python",
   "name": "python",
   "nbconvert_exporter": "python",
   "pygments_lexer": "ipython3",
   "version": "3.11.7"
  }
 },
 "nbformat": 4,
 "nbformat_minor": 2
}
